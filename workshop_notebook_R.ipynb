{
  "cells": [
    {
      "cell_type": "markdown",
      "metadata": {},
      "source": [
        "# AI-Powered Academic Research Workshop (R)\n",
        "## Using `ellmer` for Prompts and Loops in R\n",
        "\n",
        "This notebook mirrors the Python version, showing how to customize prompts and use basic `for` loops for common tasks — now in R with `ellmer`.\n",
        "\n",
        "### Learning goals\n",
        "- Understand what an API is and how to call it from R\n",
        "- Design and centralize prompt templates for reuse\n",
        "- Use simple `for` loops to automate research workflows\n",
        "- Return structured outputs (JSON) suitable for analysis\n",
        "\n",
        "### What you’ll build\n",
        "- Single-paper analyzer that extracts key fields into JSON\n",
        "- Batch processor that loops over many items\n",
        "- Relevance rater against a research question\n",
        "- Short literature synthesis across papers\n",
        "\n",
        "### How to use this notebook\n",
        "- Run cells top-to-bottom on first use\n",
        "- Edit prompts in the `Prompt templates` section; re-run only dependent cells\n",
        "- Use the `Loop patterns` section to demonstrate iteration clearly\n"
      ]
    },
    {
      "cell_type": "markdown",
      "metadata": {},
      "source": [
        "R"
      ]
    }
  ],
  "metadata": {
    "language_info": {
      "name": "python"
    }
  },
  "nbformat": 4,
  "nbformat_minor": 2
}
